{
 "cells": [
  {
   "cell_type": "code",
   "execution_count": null,
   "metadata": {
    "hideCode": true,
    "hideOutput": true,
    "hidePrompt": true,
    "jupyter": {
     "source_hidden": true
    },
    "slideshow": {
     "slide_type": "skip"
    },
    "tags": [
     "remove-cell"
    ]
   },
   "outputs": [],
   "source": [
    "import os\n",
    "\n",
    "STATIC_WEB_PAGE = {\"EXECUTE_NB\", \"READTHEDOCS\"}.intersection(os.environ)"
   ]
  },
  {
   "cell_type": "markdown",
   "metadata": {},
   "source": [
    "```{autolink-concat}\n",
    "```"
   ]
  },
  {
   "cell_type": "markdown",
   "metadata": {
    "editable": true,
    "slideshow": {
     "slide_type": ""
    },
    "tags": []
   },
   "source": [
    "::::{margin}\n",
    ":::{card} Phase space factor cuts\n",
    "TR-026\n",
    "^^^\n",
    "Visualization of the branch cuts of different phase space factor parametrizations. See also **[TR-003](https://compwa.github.io/report.003)**.\n",
    ":::\n",
    "::::"
   ]
  },
  {
   "cell_type": "markdown",
   "metadata": {
    "editable": true,
    "slideshow": {
     "slide_type": ""
    },
    "tags": []
   },
   "source": [
    "# Rotating square root cuts"
   ]
  },
  {
   "cell_type": "code",
   "execution_count": null,
   "metadata": {
    "editable": true,
    "slideshow": {
     "slide_type": ""
    },
    "tags": [
     "remove-cell"
    ]
   },
   "outputs": [],
   "source": [
    "%pip install -q numpy==1.24.4"
   ]
  },
  {
   "cell_type": "code",
   "execution_count": null,
   "metadata": {
    "editable": true,
    "jupyter": {
     "source_hidden": true
    },
    "slideshow": {
     "slide_type": ""
    },
    "tags": [
     "hide-cell"
    ]
   },
   "outputs": [],
   "source": [
    "from __future__ import annotations\n",
    "\n",
    "from typing import Callable\n",
    "\n",
    "import matplotlib.pyplot as plt\n",
    "import numpy as np"
   ]
  },
  {
   "cell_type": "code",
   "execution_count": null,
   "metadata": {
    "editable": true,
    "jupyter": {
     "source_hidden": true
    },
    "slideshow": {
     "slide_type": ""
    },
    "tags": [
     "hide-input",
     "scroll-input"
    ]
   },
   "outputs": [],
   "source": [
    "def plot_complex_plane(\n",
    "    func: Callable[[np.ndarray], np.ndarray],\n",
    "    *,\n",
    "    x_range: tuple[float, float] = (-2, +5),\n",
    "    y_range: tuple[float, float] = (-1, +1),\n",
    "    vmax: float = 1.0,\n",
    "    resolution: int = 500,\n",
    "    function_name: str = R\"\\rho(s)\",\n",
    "    **func_kwargs,\n",
    ") -> None:\n",
    "    X, Y = np.meshgrid(\n",
    "        np.linspace(*x_range, num=resolution),\n",
    "        np.linspace(*y_range, num=resolution),\n",
    "    )\n",
    "    Z = X + Y * 1j\n",
    "    T = func(Z, **func_kwargs)\n",
    "\n",
    "    fig, axs = plt.subplots(\n",
    "        figsize=(12, 5),\n",
    "        gridspec_kw=dict(width_ratios=[1, 1, 0.05]),\n",
    "        ncols=3,\n",
    "        sharey=True,\n",
    "    )\n",
    "    ax1, ax2, cax = axs\n",
    "    for ax in axs[:2]:\n",
    "        ax.set_xlabel(R\"$\\mathrm{Re}\\,s$\")\n",
    "    ax1.set_ylabel(R\"$\\mathrm{Im}\\,s$\")\n",
    "    ax1.set_title(Rf\"$\\mathrm{{Re}}\\,{function_name}$\")\n",
    "    ax2.set_title(Rf\"$\\mathrm{{Im}}\\,{function_name}$\")\n",
    "    style = dict(cmap=plt.cm.coolwarm, vmin=-vmax, vmax=+vmax)\n",
    "    mesh = ax1.pcolormesh(X, Y, T.real, **style)\n",
    "    mesh = ax2.pcolormesh(X, Y, T.imag, **style)\n",
    "    plt.colorbar(mesh, cax=cax)\n",
    "    for ax in axs[:2]:\n",
    "        ax.set_ylim(X.min(), X.max())\n",
    "        ax.set_ylim(Y.min(), Y.max())\n",
    "    fig.tight_layout()\n",
    "    plt.show()"
   ]
  },
  {
   "cell_type": "markdown",
   "metadata": {},
   "source": [
    "## Rotates square root"
   ]
  },
  {
   "cell_type": "markdown",
   "metadata": {},
   "source": [
    "$$\n",
    "\\begin{eqnarray}\n",
    "\\sqrt[{[\\phi]}]{z} &=& e^{\\frac{1}{2}\\phi i} \\sqrt{z e^{-\\phi i}}\n",
    "\\end{eqnarray}\n",
    "$$"
   ]
  },
  {
   "cell_type": "code",
   "execution_count": null,
   "metadata": {},
   "outputs": [],
   "source": [
    "def sqrt(z, phi: float = 0):\n",
    "    return np.exp(1j * phi / 2) * np.sqrt(z * np.exp(-1j * phi))"
   ]
  },
  {
   "cell_type": "code",
   "execution_count": null,
   "metadata": {
    "jupyter": {
     "source_hidden": true
    }
   },
   "outputs": [],
   "source": [
    "plot_complex_plane(\n",
    "    sqrt,\n",
    "    phi=np.pi / 6,\n",
    "    x_range=(-1, +1),\n",
    "    y_range=(-1, +1),\n",
    "    function_name=R\"\\sqrt[{[\\phi]}]{s}\",\n",
    ")"
   ]
  },
  {
   "cell_type": "markdown",
   "metadata": {
    "editable": true,
    "slideshow": {
     "slide_type": ""
    },
    "tags": []
   },
   "source": [
    "## PDG phase space factor"
   ]
  },
  {
   "cell_type": "markdown",
   "metadata": {
    "editable": true,
    "slideshow": {
     "slide_type": ""
    },
    "tags": []
   },
   "source": [
    "Phase space factor from the PDG as defined in Eq. (50.11), [PDG2023, §Resonances](https://pdg.lbl.gov/2023/reviews/rpp2023-rev-resonances.pdf#page=8):"
   ]
  },
  {
   "cell_type": "markdown",
   "metadata": {
    "editable": true,
    "slideshow": {
     "slide_type": ""
    },
    "tags": []
   },
   "source": [
    "$$\n",
    "\\begin{eqnarray}\n",
    "\\rho(s) &=& \\frac{2\\left|q(s)\\right|}{\\sqrt{s}} \\\\\n",
    "q(s) &=& \\frac{\\sqrt{\\lambda(s, m_1^2, m_2^2)}}{2\\sqrt{s}} \\\\\n",
    "\\lambda(x, y, z) &=& x^2 + y^2 + z^2 - 2xy - 2yz - 2zx\\end{eqnarray}\n",
    "$$"
   ]
  },
  {
   "cell_type": "code",
   "execution_count": null,
   "metadata": {
    "editable": true,
    "slideshow": {
     "slide_type": ""
    },
    "tags": []
   },
   "outputs": [],
   "source": [
    "def phsp_factor_pdg(s, m1, m2, phi: float = 0):\n",
    "    return 2 * breakup_momentum(s, m1, m2) / sqrt(s, phi)\n",
    "\n",
    "\n",
    "def breakup_momentum(s, m1, m2):\n",
    "    return np.sqrt(kallen(s, m1**2, m2**2)) / (2 * np.sqrt(s))\n",
    "\n",
    "\n",
    "def kallen(x, y, z):\n",
    "    return x**2 + y**2 + z**2 - 2 * x * y - 2 * y * z - 2 * z * x"
   ]
  },
  {
   "cell_type": "code",
   "execution_count": null,
   "metadata": {
    "editable": true,
    "slideshow": {
     "slide_type": ""
    },
    "tags": []
   },
   "outputs": [],
   "source": [
    "masses = dict(m1=0.1, m2=0.7)\n",
    "plot_complex_plane(phsp_factor_pdg, **masses, phi=0)"
   ]
  },
  {
   "cell_type": "markdown",
   "metadata": {},
   "source": [
    "## Wilson phase space factor"
   ]
  },
  {
   "cell_type": "markdown",
   "metadata": {
    "editable": true,
    "slideshow": {
     "slide_type": ""
    },
    "tags": []
   },
   "source": [
    "$$\n",
    "\\begin{eqnarray}\n",
    "\\rho(s) &=&\n",
    "\\sqrt{1-\\frac{(m_1+m_2)^2}{s}}\n",
    "\\sqrt{1-\\frac{(m_1-m_2)^2}{s}}\n",
    "\\end{eqnarray}\n",
    "$$"
   ]
  },
  {
   "cell_type": "code",
   "execution_count": null,
   "metadata": {},
   "outputs": [],
   "source": [
    "def phsp_wilson(s, m1, m2, phi: float = 0):\n",
    "    return sqrt(1 - (m1 + m2) ** 2 / s, phi) * sqrt(1 - (m1 - m2) ** 2 / s, phi)"
   ]
  },
  {
   "cell_type": "code",
   "execution_count": null,
   "metadata": {},
   "outputs": [],
   "source": [
    "plot_complex_plane(phsp_wilson, **masses, phi=0)"
   ]
  },
  {
   "cell_type": "markdown",
   "metadata": {},
   "source": [
    "## Merged square root"
   ]
  },
  {
   "cell_type": "markdown",
   "metadata": {
    "editable": true,
    "slideshow": {
     "slide_type": ""
    },
    "tags": []
   },
   "source": [
    "$$\n",
    "\\begin{eqnarray}\n",
    "\\rho(s) &=&\n",
    "\\sqrt{\n",
    "  \\left(1-\\frac{(m_1+m_2)^2}{s}\\right)\n",
    "  \\left(1-\\frac{(m_1-m_2)^2}{s}\\right)\n",
    "}\n",
    "\\end{eqnarray}\n",
    "$$"
   ]
  },
  {
   "cell_type": "code",
   "execution_count": null,
   "metadata": {},
   "outputs": [],
   "source": [
    "def phsp_merged_sqrt(s, m1, m2, phi: float = 0):\n",
    "    return sqrt((1 - (m1 + m2) ** 2 / s) * (1 - (m1 - m2) ** 2 / s), phi)"
   ]
  },
  {
   "cell_type": "code",
   "execution_count": null,
   "metadata": {},
   "outputs": [],
   "source": [
    "plot_complex_plane(phsp_merged_sqrt, **masses, phi=0)"
   ]
  }
 ],
 "metadata": {
  "colab": {
   "toc_visible": true
  },
  "kernelspec": {
   "display_name": "Python 3 (ipykernel)",
   "language": "python",
   "name": "python3"
  },
  "language_info": {
   "codemirror_mode": {
    "name": "ipython",
    "version": 3
   },
   "file_extension": ".py",
   "mimetype": "text/x-python",
   "name": "python",
   "nbconvert_exporter": "python",
   "pygments_lexer": "ipython3",
   "version": "3.10.13"
  }
 },
 "nbformat": 4,
 "nbformat_minor": 4
}
